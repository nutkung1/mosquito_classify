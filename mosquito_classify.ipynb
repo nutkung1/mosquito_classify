{
  "nbformat": 4,
  "nbformat_minor": 0,
  "metadata": {
    "colab": {
      "name": "mosquito classify.ipynb",
      "provenance": [],
      "collapsed_sections": []
    },
    "kernelspec": {
      "name": "python3",
      "display_name": "Python 3"
    },
    "accelerator": "GPU"
  },
  "cells": [
    {
      "cell_type": "markdown",
      "metadata": {
        "id": "ivjUKa-RrtD2"
      },
      "source": [
        "CNN-Image classify"
      ]
    },
    {
      "cell_type": "code",
      "metadata": {
        "id": "uRdUlLNepjRF"
      },
      "source": [
        "import tensorflow as tf"
      ],
      "execution_count": null,
      "outputs": []
    },
    {
      "cell_type": "code",
      "metadata": {
        "id": "AdYjPZFFWk6h"
      },
      "source": [
        "import numpy as np\n",
        "import cv2\n",
        "import os\n",
        "from tqdm import tqdm\n",
        "import keras\n",
        "from keras.models import Sequential\n",
        "from keras.layers import Dense, Dropout, Activation, Flatten\n",
        "from keras.layers import Conv2D, MaxPooling2D"
      ],
      "execution_count": null,
      "outputs": []
    },
    {
      "cell_type": "code",
      "metadata": {
        "id": "HAAcEz-lWxFQ"
      },
      "source": [
        "from os import listdir\n",
        "from os.path import isfile, join"
      ],
      "execution_count": null,
      "outputs": []
    },
    {
      "cell_type": "markdown",
      "metadata": {
        "id": "U_6W-75wmLwN"
      },
      "source": [
        "IMPORT DATASET"
      ]
    },
    {
      "cell_type": "code",
      "metadata": {
        "id": "cAVsoOpWW6KI",
        "colab": {
          "base_uri": "https://localhost:8080/"
        },
        "outputId": "0411fe8a-a959-4847-b5fb-0553920502dc"
      },
      "source": [
        "!wget http://techno.varee.ac.th/colab/mosquito.zip\n",
        "!unzip --qq mosquito.zip"
      ],
      "execution_count": null,
      "outputs": [
        {
          "output_type": "stream",
          "name": "stdout",
          "text": [
            "--2021-09-07 07:02:32--  http://techno.varee.ac.th/colab/mosquito.zip\n",
            "Resolving techno.varee.ac.th (techno.varee.ac.th)... 110.164.57.36\n",
            "Connecting to techno.varee.ac.th (techno.varee.ac.th)|110.164.57.36|:80... connected.\n",
            "HTTP request sent, awaiting response... 200 OK\n",
            "Length: 28715057 (27M) [application/zip]\n",
            "Saving to: ‘mosquito.zip’\n",
            "\n",
            "mosquito.zip        100%[===================>]  27.38M  5.20MB/s    in 6.6s    \n",
            "\n",
            "2021-09-07 07:02:40 (4.15 MB/s) - ‘mosquito.zip’ saved [28715057/28715057]\n",
            "\n"
          ]
        }
      ]
    },
    {
      "cell_type": "code",
      "metadata": {
        "id": "sFSWG8oyWzO4"
      },
      "source": [
        "width = 128\n",
        "num_classes = 2\n",
        "trainpath = 'train/'\n",
        "testpath = 'test/'\n",
        "trainImg = [trainpath+f for f in listdir(trainpath) if listdir(join(trainpath, f))]\n",
        "testImg = [testpath+f for f in listdir(testpath) if listdir(join(testpath, f))]"
      ],
      "execution_count": null,
      "outputs": []
    },
    {
      "cell_type": "code",
      "metadata": {
        "id": "6YIxrmAlC493",
        "colab": {
          "base_uri": "https://localhost:8080/"
        },
        "outputId": "bc041565-020a-4526-a999-597f62166d06"
      },
      "source": [
        "trainImg"
      ],
      "execution_count": null,
      "outputs": [
        {
          "output_type": "execute_result",
          "data": {
            "text/plain": [
              "['train/Culex', 'train/Aedes']"
            ]
          },
          "metadata": {},
          "execution_count": 6
        }
      ]
    },
    {
      "cell_type": "code",
      "metadata": {
        "id": "K1faSTq4XGJA"
      },
      "source": [
        "def img2data(path):\n",
        "  rawImgs = []\n",
        "  labels = []\n",
        "  c = 0\n",
        "  for imagePath in (path):\n",
        "      for item in tqdm(os.listdir(imagePath)):\n",
        "          file = os.path.join(imagePath, item)\n",
        "          #print(file)\n",
        "          c+=1\n",
        "          l = imagePath.split('/')[1]\n",
        "          \n",
        "          if l == 'Aedes':\n",
        "            labels.append([1,0])         \n",
        "          elif l == 'Culex':\n",
        "            labels.append([0,1])\n",
        "          if file[-1] =='g':\n",
        "            img = cv2.imread(file , cv2.COLOR_BGR2RGB)\n",
        "            img = cv2.resize(img ,(width,width))\n",
        "            rawImgs.append(img)\n",
        "  return rawImgs, labels"
      ],
      "execution_count": null,
      "outputs": []
    },
    {
      "cell_type": "code",
      "metadata": {
        "id": "2FNoyHWkNpcF",
        "colab": {
          "base_uri": "https://localhost:8080/"
        },
        "outputId": "b6ff1bf0-ef01-45d2-8727-23cbe986dc48"
      },
      "source": [
        "x_train, y_train = img2data(trainImg)\n",
        "x_test, y_test = img2data(testImg)"
      ],
      "execution_count": null,
      "outputs": [
        {
          "output_type": "stream",
          "name": "stderr",
          "text": [
            "100%|██████████| 600/600 [00:00<00:00, 776.04it/s]\n",
            "100%|██████████| 600/600 [00:00<00:00, 841.98it/s]\n",
            "100%|██████████| 30/30 [00:00<00:00, 803.35it/s]\n",
            "100%|██████████| 30/30 [00:00<00:00, 766.49it/s]\n"
          ]
        }
      ]
    },
    {
      "cell_type": "code",
      "metadata": {
        "id": "vgZDhbLid6uP"
      },
      "source": [
        "x_train = np.array(x_train)\n",
        "y_train = np.array(y_train)\n",
        "x_test = np.array(x_test)\n",
        "y_test = np.array(y_test)\n",
        "x_train = x_train.astype('float32')\n",
        "x_test = x_test.astype('float32')\n",
        "x_train /= 255\n",
        "x_test /= 255"
      ],
      "execution_count": null,
      "outputs": []
    },
    {
      "cell_type": "code",
      "metadata": {
        "colab": {
          "base_uri": "https://localhost:8080/"
        },
        "id": "FICOsa4VgK2U",
        "outputId": "5717d41f-76ae-428b-db08-77b0e2aa0504"
      },
      "source": [
        "x_train.shape,y_train.shape,x_test.shape, y_test.shape"
      ],
      "execution_count": null,
      "outputs": [
        {
          "output_type": "execute_result",
          "data": {
            "text/plain": [
              "((1200, 128, 128, 3), (1200, 2), (60, 128, 128, 3), (60, 2))"
            ]
          },
          "metadata": {},
          "execution_count": 10
        }
      ]
    },
    {
      "cell_type": "code",
      "metadata": {
        "id": "YjClHbH8S2iL"
      },
      "source": [
        "model = keras.Sequential([\n",
        "        keras.layers.Conv2D(128, (3,3), activation='relu', input_shape=(width, width, 3)),\n",
        "        keras.layers.MaxPooling2D(pool_size=(2, 2)),\n",
        "        keras.layers.Conv2D(128,(3,3) , activation='relu'),\n",
        "        keras.layers.MaxPooling2D(pool_size=(2,2 )),\n",
        "        keras.layers.Dense(16),\n",
        "        keras.layers.Flatten(),\n",
        "\n",
        "        keras.layers.Dense(num_classes, activation='softmax') #softmax for one hot . . # sigmoid for 0/1\n",
        "    ])"
      ],
      "execution_count": null,
      "outputs": []
    },
    {
      "cell_type": "code",
      "metadata": {
        "id": "fbvrEu32T_Gm",
        "colab": {
          "base_uri": "https://localhost:8080/"
        },
        "outputId": "6347851a-f2ba-4b04-eed1-b7e0a29224ae"
      },
      "source": [
        "model.summary()"
      ],
      "execution_count": null,
      "outputs": [
        {
          "output_type": "stream",
          "name": "stdout",
          "text": [
            "Model: \"sequential\"\n",
            "_________________________________________________________________\n",
            "Layer (type)                 Output Shape              Param #   \n",
            "=================================================================\n",
            "conv2d (Conv2D)              (None, 126, 126, 128)     3584      \n",
            "_________________________________________________________________\n",
            "max_pooling2d (MaxPooling2D) (None, 63, 63, 128)       0         \n",
            "_________________________________________________________________\n",
            "conv2d_1 (Conv2D)            (None, 61, 61, 128)       147584    \n",
            "_________________________________________________________________\n",
            "max_pooling2d_1 (MaxPooling2 (None, 30, 30, 128)       0         \n",
            "_________________________________________________________________\n",
            "dense (Dense)                (None, 30, 30, 16)        2064      \n",
            "_________________________________________________________________\n",
            "flatten (Flatten)            (None, 14400)             0         \n",
            "_________________________________________________________________\n",
            "dense_1 (Dense)              (None, 2)                 28802     \n",
            "=================================================================\n",
            "Total params: 182,034\n",
            "Trainable params: 182,034\n",
            "Non-trainable params: 0\n",
            "_________________________________________________________________\n"
          ]
        }
      ]
    },
    {
      "cell_type": "code",
      "metadata": {
        "id": "C-uCt0VBUET0",
        "colab": {
          "base_uri": "https://localhost:8080/"
        },
        "outputId": "22fb1084-0151-45e7-e182-b69be467b224"
      },
      "source": [
        "model.compile(optimizer=tf.keras.optimizers.Adam(lr=0.0001), loss='categorical_crossentropy'\n",
        "                , metrics= ['accuracy'])\n",
        "batch_size = 32\n",
        "epochs = 10"
      ],
      "execution_count": null,
      "outputs": [
        {
          "output_type": "stream",
          "name": "stderr",
          "text": [
            "/usr/local/lib/python3.7/dist-packages/keras/optimizer_v2/optimizer_v2.py:356: UserWarning: The `lr` argument is deprecated, use `learning_rate` instead.\n",
            "  \"The `lr` argument is deprecated, use `learning_rate` instead.\")\n"
          ]
        }
      ]
    },
    {
      "cell_type": "code",
      "metadata": {
        "id": "J--1XT70UUAS",
        "colab": {
          "base_uri": "https://localhost:8080/"
        },
        "outputId": "555c852d-4e45-4c63-8189-fbc945d53cae"
      },
      "source": [
        "history = model.fit(x_train, y_train ,batch_size=batch_size, epochs=epochs ,validation_data=(x_test, y_test))\n"
      ],
      "execution_count": null,
      "outputs": [
        {
          "output_type": "stream",
          "name": "stdout",
          "text": [
            "Epoch 1/10\n",
            "38/38 [==============================] - 35s 128ms/step - loss: 0.6493 - accuracy: 0.6325 - val_loss: 0.5897 - val_accuracy: 0.7833\n",
            "Epoch 2/10\n",
            "38/38 [==============================] - 3s 91ms/step - loss: 0.4805 - accuracy: 0.8083 - val_loss: 0.4579 - val_accuracy: 0.7500\n",
            "Epoch 3/10\n",
            "38/38 [==============================] - 3s 88ms/step - loss: 0.3436 - accuracy: 0.8633 - val_loss: 0.3566 - val_accuracy: 0.8833\n",
            "Epoch 4/10\n",
            "38/38 [==============================] - 3s 90ms/step - loss: 0.2465 - accuracy: 0.9133 - val_loss: 0.2947 - val_accuracy: 0.8833\n",
            "Epoch 5/10\n",
            "38/38 [==============================] - 3s 90ms/step - loss: 0.1829 - accuracy: 0.9392 - val_loss: 0.2302 - val_accuracy: 0.9333\n",
            "Epoch 6/10\n",
            "38/38 [==============================] - 3s 90ms/step - loss: 0.1661 - accuracy: 0.9508 - val_loss: 0.3256 - val_accuracy: 0.8333\n",
            "Epoch 7/10\n",
            "38/38 [==============================] - 3s 89ms/step - loss: 0.1505 - accuracy: 0.9517 - val_loss: 0.1598 - val_accuracy: 0.9833\n",
            "Epoch 8/10\n",
            "38/38 [==============================] - 3s 89ms/step - loss: 0.0999 - accuracy: 0.9742 - val_loss: 0.1645 - val_accuracy: 0.9667\n",
            "Epoch 9/10\n",
            "38/38 [==============================] - 3s 90ms/step - loss: 0.0940 - accuracy: 0.9750 - val_loss: 0.1365 - val_accuracy: 0.9833\n",
            "Epoch 10/10\n",
            "38/38 [==============================] - 3s 91ms/step - loss: 0.0918 - accuracy: 0.9725 - val_loss: 0.1445 - val_accuracy: 0.9500\n"
          ]
        }
      ]
    },
    {
      "cell_type": "code",
      "metadata": {
        "colab": {
          "base_uri": "https://localhost:8080/",
          "height": 573
        },
        "id": "TXAknYTDUogB",
        "outputId": "c804ce02-17eb-443a-dd44-4b698350eaf6"
      },
      "source": [
        "import matplotlib.pyplot as plt\n",
        "plt.plot(history.history['accuracy'])\n",
        "plt.plot(history.history['val_accuracy'])\n",
        "plt.title('model accuracy')\n",
        "plt.ylabel('accuracy')\n",
        "plt.xlabel('epoch')\n",
        "plt.legend(['train', 'validation'], loc='upper left')\n",
        "plt.show()\n",
        "# \"Loss\"\n",
        "plt.plot(history.history['loss'])\n",
        "plt.plot(history.history['val_loss'])\n",
        "plt.title('model loss')\n",
        "plt.ylabel('loss')\n",
        "plt.xlabel('epoch')\n",
        "plt.legend(['train', 'validation'], loc='upper left')\n",
        "plt.show()"
      ],
      "execution_count": null,
      "outputs": [
        {
          "output_type": "display_data",
          "data": {
            "image/png": "[encoded data removed]",
            "text/plain": [
              "<Figure size 432x288 with 1 Axes>"
            ]
          },
          "metadata": {
            "needs_background": "light"
          }
        },
        {
          "output_type": "display_data",
          "data": {
            "image/png": "[encoded data removed]",
            "text/plain": [
              "<Figure size 432x288 with 1 Axes>"
            ]
          },
          "metadata": {
            "needs_background": "light"
          }
        }
      ]
    },
    {
      "cell_type": "markdown",
      "metadata": {
        "id": "sRiryBySUYyP"
      },
      "source": [
        "\n",
        "\n",
        "---\n",
        "\n",
        "\n",
        "\n",
        "---\n",
        "\n"
      ]
    },
    {
      "cell_type": "markdown",
      "metadata": {
        "id": "lmkjLM3vrqd4"
      },
      "source": [
        "Transfer learning with MobilenetV2"
      ]
    },
    {
      "cell_type": "code",
      "metadata": {
        "id": "LvLQ0R-Ce_MW"
      },
      "source": [
        "base_model = tf.keras.applications.MobileNetV2(input_shape=(width,width,3),\n",
        "                                                   include_top=False,\n",
        "                                                   weights='imagenet')\n",
        "base_model.trainable = False\n",
        "num_classes = 2\n",
        "\n",
        "model = keras.Sequential([\n",
        "        base_model,\n",
        "        \n",
        "        keras.layers.Conv2D(128, 3, activation='relu'),\n",
        "        keras.layers.MaxPooling2D(pool_size=(2, 2)),\n",
        "        keras.layers.Dropout(0.25),\n",
        "        keras.layers.Dense(16),\n",
        "        keras.layers.Flatten(),\n",
        "        keras.layers.Dense(num_classes, activation='softmax')\n",
        "    ])\n"
      ],
      "execution_count": null,
      "outputs": []
    },
    {
      "cell_type": "code",
      "metadata": {
        "colab": {
          "base_uri": "https://localhost:8080/"
        },
        "id": "KVj4OMXdDHe5",
        "outputId": "37369a8e-7025-4b68-f93d-79e3d01d044f"
      },
      "source": [
        "model.summary()"
      ],
      "execution_count": null,
      "outputs": [
        {
          "output_type": "stream",
          "name": "stdout",
          "text": [
            "Model: \"sequential_6\"\n",
            "_________________________________________________________________\n",
            "Layer (type)                 Output Shape              Param #   \n",
            "=================================================================\n",
            "mobilenetv2_1.00_128 (Functi (None, 4, 4, 1280)        2257984   \n",
            "_________________________________________________________________\n",
            "conv2d_12 (Conv2D)           (None, 2, 2, 128)         1474688   \n",
            "_________________________________________________________________\n",
            "max_pooling2d_7 (MaxPooling2 (None, 1, 1, 128)         0         \n",
            "_________________________________________________________________\n",
            "dropout_5 (Dropout)          (None, 1, 1, 128)         0         \n",
            "_________________________________________________________________\n",
            "dense_12 (Dense)             (None, 1, 1, 16)          2064      \n",
            "_________________________________________________________________\n",
            "flatten_6 (Flatten)          (None, 16)                0         \n",
            "_________________________________________________________________\n",
            "dense_13 (Dense)             (None, 2)                 34        \n",
            "=================================================================\n",
            "Total params: 3,734,770\n",
            "Trainable params: 1,476,786\n",
            "Non-trainable params: 2,257,984\n",
            "_________________________________________________________________\n"
          ]
        }
      ]
    },
    {
      "cell_type": "code",
      "metadata": {
        "id": "EAGpk3FgfpFW",
        "colab": {
          "base_uri": "https://localhost:8080/"
        },
        "outputId": "7e606034-8cb2-4bb6-e51e-3d7e59fd314b"
      },
      "source": [
        "model.compile(optimizer=tf.keras.optimizers.Adam(lr=0.0001), loss='categorical_crossentropy'\n",
        "                , metrics= ['accuracy'], weighted_metrics=['accuracy'])\n",
        "\n",
        "batch_size = 32\n",
        "epochs = 10"
      ],
      "execution_count": null,
      "outputs": [
        {
          "output_type": "stream",
          "name": "stderr",
          "text": [
            "/usr/local/lib/python3.7/dist-packages/keras/optimizer_v2/optimizer_v2.py:356: UserWarning: The `lr` argument is deprecated, use `learning_rate` instead.\n",
            "  \"The `lr` argument is deprecated, use `learning_rate` instead.\")\n"
          ]
        }
      ]
    },
    {
      "cell_type": "code",
      "metadata": {
        "id": "Sj4ufi7pftQT",
        "colab": {
          "base_uri": "https://localhost:8080/"
        },
        "outputId": "c45b363d-119c-44d4-bda7-fd535a2af1d0"
      },
      "source": [
        "history = model.fit(x_train, y_train ,batch_size=batch_size, epochs=epochs ,validation_data=(x_test, y_test))\n"
      ],
      "execution_count": null,
      "outputs": [
        {
          "output_type": "stream",
          "name": "stdout",
          "text": [
            "Epoch 1/10\n",
            "38/38 [==============================] - 7s 90ms/step - loss: 0.3052 - accuracy: 0.9192 - weighted_accuracy: 0.9192 - val_loss: 0.0175 - val_accuracy: 1.0000 - val_weighted_accuracy: 1.0000\n",
            "Epoch 2/10\n",
            "38/38 [==============================] - 2s 43ms/step - loss: 0.0097 - accuracy: 0.9967 - weighted_accuracy: 0.9967 - val_loss: 0.0086 - val_accuracy: 1.0000 - val_weighted_accuracy: 1.0000\n",
            "Epoch 3/10\n",
            "38/38 [==============================] - 2s 43ms/step - loss: 0.0027 - accuracy: 0.9992 - weighted_accuracy: 0.9992 - val_loss: 0.0068 - val_accuracy: 1.0000 - val_weighted_accuracy: 1.0000\n",
            "Epoch 4/10\n",
            "38/38 [==============================] - 2s 46ms/step - loss: 8.5705e-04 - accuracy: 1.0000 - weighted_accuracy: 1.0000 - val_loss: 0.0057 - val_accuracy: 1.0000 - val_weighted_accuracy: 1.0000\n",
            "Epoch 5/10\n",
            "38/38 [==============================] - 2s 44ms/step - loss: 9.9330e-04 - accuracy: 1.0000 - weighted_accuracy: 1.0000 - val_loss: 0.0061 - val_accuracy: 1.0000 - val_weighted_accuracy: 1.0000\n",
            "Epoch 6/10\n",
            "38/38 [==============================] - 2s 43ms/step - loss: 5.6233e-04 - accuracy: 1.0000 - weighted_accuracy: 1.0000 - val_loss: 0.0116 - val_accuracy: 1.0000 - val_weighted_accuracy: 1.0000\n",
            "Epoch 7/10\n",
            "38/38 [==============================] - 2s 43ms/step - loss: 8.7532e-04 - accuracy: 1.0000 - weighted_accuracy: 1.0000 - val_loss: 0.0044 - val_accuracy: 1.0000 - val_weighted_accuracy: 1.0000\n",
            "Epoch 8/10\n",
            "38/38 [==============================] - 2s 43ms/step - loss: 8.4794e-04 - accuracy: 1.0000 - weighted_accuracy: 1.0000 - val_loss: 0.0039 - val_accuracy: 1.0000 - val_weighted_accuracy: 1.0000\n",
            "Epoch 9/10\n",
            "38/38 [==============================] - 2s 43ms/step - loss: 6.4722e-04 - accuracy: 1.0000 - weighted_accuracy: 1.0000 - val_loss: 0.0041 - val_accuracy: 1.0000 - val_weighted_accuracy: 1.0000\n",
            "Epoch 10/10\n",
            "38/38 [==============================] - 2s 43ms/step - loss: 3.3013e-04 - accuracy: 1.0000 - weighted_accuracy: 1.0000 - val_loss: 0.0069 - val_accuracy: 1.0000 - val_weighted_accuracy: 1.0000\n"
          ]
        }
      ]
    },
    {
      "cell_type": "code",
      "metadata": {
        "id": "RBp33B6ign6p",
        "colab": {
          "base_uri": "https://localhost:8080/",
          "height": 573
        },
        "outputId": "c7db5a9a-0d25-46c5-f17d-578ad3a6e8e0"
      },
      "source": [
        "import matplotlib.pyplot as plt\n",
        "plt.plot(history.history['accuracy'])\n",
        "plt.plot(history.history['val_accuracy'])\n",
        "plt.title('model accuracy')\n",
        "plt.ylabel('accuracy')\n",
        "plt.xlabel('epoch')\n",
        "plt.legend(['train', 'validation'], loc='upper left')\n",
        "plt.show()\n",
        "# \"Loss\"\n",
        "plt.plot(history.history['loss'])\n",
        "plt.plot(history.history['val_loss'])\n",
        "plt.title('model loss')\n",
        "plt.ylabel('loss')\n",
        "plt.xlabel('epoch')\n",
        "plt.legend(['train', 'validation'], loc='upper left')\n",
        "plt.show()"
      ],
      "execution_count": null,
      "outputs": [
        {
          "output_type": "display_data",
          "data": {
            "image/png": "[encoded data removed]",
            "text/plain": [
              "<Figure size 432x288 with 1 Axes>"
            ]
          },
          "metadata": {
            "needs_background": "light"
          }
        },
        {
          "output_type": "display_data",
          "data": {
            "image/png": "[encoded data removed]",
            "text/plain": [
              "<Figure size 432x288 with 1 Axes>"
            ]
          },
          "metadata": {
            "needs_background": "light"
          }
        }
      ]
    },
    {
      "cell_type": "markdown",
      "metadata": {
        "id": "Orokv44Pr-ys"
      },
      "source": [
        "\n",
        "\n",
        "---\n",
        "\n",
        "\n",
        "\n",
        "---\n",
        "\n",
        "\n",
        "This for try out your image"
      ]
    },
    {
      "cell_type": "code",
      "metadata": {
        "id": "ghL-nOBZhmsP"
      },
      "source": [
        "testpath = 'test/'\n",
        "testImg = [testpath+f for f in listdir(testpath) if listdir(join(testpath, f))]\n",
        "rimg = []\n",
        "for imagePath in (testImg):\n",
        "    for item in (os.listdir(imagePath)):\n",
        "        file = os.path.join(imagePath, item)\n",
        "        if item.split('.')[0] != \"\":\n",
        "           \n",
        "          img = cv2.imread(file , cv2.COLOR_BGR2RGB)\n",
        "          ori = cv2.cvtColor(img, cv2.COLOR_BGR2RGB)\n",
        "          img = cv2.resize(img ,(width,width))\n",
        "          rimg = np.array(img)\n",
        "          rimg = rimg.astype('float32')\n",
        "          rimg /= 255\n",
        "          rimg = np.reshape(rimg ,(1,128,128,3))\n",
        "          predict = model.predict(rimg)\n",
        "          label = ['Aedes','Culex']\n",
        "          result = label[np.argmax(predict)]\n",
        "          print(predict)\n",
        "          print('real:'+str(item))\n",
        "          print('predict:'+str(result))\n",
        "          plt.imshow(ori)\n",
        "          plt.show()\n",
        "\n"
      ],
      "execution_count": null,
      "outputs": []
    }
  ]
}